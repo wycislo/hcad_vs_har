{
 "cells": [
  {
   "cell_type": "code",
   "execution_count": 1,
   "id": "22ba1b74",
   "metadata": {},
   "outputs": [],
   "source": [
    "import pandas as pd\n",
    "import os\n",
    "from dotenv import load_dotenv\n",
    "from sqlalchemy import create_engine\n",
    "import pandas as pd\n",
    "import matplotlib.pyplot as plt\n",
    "import numpy as np\n",
    "\n",
    "# Load .env enviroment variables into the notebook\n",
    "load_dotenv()\n",
    "# Get the postgres connection information from os file. \n",
    "\n",
    "DB_HOST = os.getenv('DB_HOST')\n",
    "DB_NAME = os.getenv('DB_NAME')\n",
    "DB_USER = os.getenv('DB_USER')\n",
    "DB_PASS = os.getenv('DB_PASS')\n"
   ]
  },
  {
   "cell_type": "code",
   "execution_count": 2,
   "id": "001abc22",
   "metadata": {},
   "outputs": [],
   "source": [
    "# initialize database engine\n",
    "engine = create_engine(f'postgresql://{DB_USER}:{DB_PASS}@{DB_HOST}:5432/Houston_real_estate')\n"
   ]
  },
  {
   "cell_type": "code",
   "execution_count": 3,
   "id": "62bc8424",
   "metadata": {},
   "outputs": [],
   "source": [
    "#run query to extract properties that are on the market from Harris County Appraisal district (HCAD) \n",
    "# database; street name and number should match; apartment number should match; zip code \n",
    "# must match between hcad table and har table; there should not be any properties with 0 appraisal \n",
    "# value and also should not be any properties with 0 street number as these represent plots of land\n",
    "# that don't yet have an address and are owed by the county. \n",
    "price_vs_appraised_df = pd.read_sql('''\n",
    "select ha.mls,ha.address,ha.zipcode,\n",
    "ha.price as \"har price\", r.tot_appr_val as \"hcad appraised value\",\n",
    "r.tot_mkt_val as \"hcad total mkt value\"\n",
    "from har_address ha, real_acct r\n",
    "where ha.zipcode = r.site_addr_3\n",
    "and upper(ha.streetname) = upper(r.str)\n",
    "and ha.addressnumber = r.str_num\n",
    "and r.str_unit=ha.occupancyidentifier\n",
    "and r.str_num!='0'\n",
    "and r.tot_appr_val!=0 ;\n",
    "''',engine)\n"
   ]
  },
  {
   "cell_type": "code",
   "execution_count": 4,
   "id": "82052d4a",
   "metadata": {},
   "outputs": [
    {
     "data": {
      "text/html": [
       "<div>\n",
       "<style scoped>\n",
       "    .dataframe tbody tr th:only-of-type {\n",
       "        vertical-align: middle;\n",
       "    }\n",
       "\n",
       "    .dataframe tbody tr th {\n",
       "        vertical-align: top;\n",
       "    }\n",
       "\n",
       "    .dataframe thead th {\n",
       "        text-align: right;\n",
       "    }\n",
       "</style>\n",
       "<table border=\"1\" class=\"dataframe\">\n",
       "  <thead>\n",
       "    <tr style=\"text-align: right;\">\n",
       "      <th></th>\n",
       "      <th>mls</th>\n",
       "      <th>address</th>\n",
       "      <th>zipcode</th>\n",
       "      <th>har price</th>\n",
       "      <th>hcad appraised value</th>\n",
       "      <th>hcad total mkt value</th>\n",
       "    </tr>\n",
       "  </thead>\n",
       "  <tbody>\n",
       "    <tr>\n",
       "      <th>0</th>\n",
       "      <td>57107762</td>\n",
       "      <td>1 Radney Circle, Piney Point Village, TX 77024</td>\n",
       "      <td>77024</td>\n",
       "      <td>2225000.0</td>\n",
       "      <td>2086377.0</td>\n",
       "      <td>2086377.0</td>\n",
       "    </tr>\n",
       "    <tr>\n",
       "      <th>1</th>\n",
       "      <td>59662089</td>\n",
       "      <td>1 W Broad Oaks Drive, Houston, TX 77056</td>\n",
       "      <td>77056</td>\n",
       "      <td>1399000.0</td>\n",
       "      <td>1329455.0</td>\n",
       "      <td>1329455.0</td>\n",
       "    </tr>\n",
       "  </tbody>\n",
       "</table>\n",
       "</div>"
      ],
      "text/plain": [
       "        mls                                         address zipcode  \\\n",
       "0  57107762  1 Radney Circle, Piney Point Village, TX 77024   77024   \n",
       "1  59662089         1 W Broad Oaks Drive, Houston, TX 77056   77056   \n",
       "\n",
       "   har price  hcad appraised value  hcad total mkt value  \n",
       "0  2225000.0             2086377.0             2086377.0  \n",
       "1  1399000.0             1329455.0             1329455.0  "
      ]
     },
     "execution_count": 4,
     "metadata": {},
     "output_type": "execute_result"
    }
   ],
   "source": [
    "price_vs_appraised_df.head(2)"
   ]
  },
  {
   "cell_type": "code",
   "execution_count": 9,
   "id": "9700fa9e",
   "metadata": {},
   "outputs": [
    {
     "data": {
      "image/png": "[encoded data removed]",
      "text/plain": [
       "<Figure size 432x288 with 1 Axes>"
      ]
     },
     "metadata": {
      "needs_background": "light"
     },
     "output_type": "display_data"
    }
   ],
   "source": [
    "#Har price distribotion for the whole Harris county\n",
    "custom_bins=[0+x*50000 for x in range(0, 40)]\n",
    "price_vs_appraised_df.hist(column='har price', bins=custom_bins)\n",
    "plt.xlabel('Property Price from HAR Mil$')\n",
    "plt.ylabel(\"Number Of Properties\");\n",
    "plt.savefig('histogram_har.png', dpi=300)"
   ]
  },
  {
   "cell_type": "code",
   "execution_count": 8,
   "id": "bf06ee42",
   "metadata": {},
   "outputs": [
    {
     "data": {
      "image/png": "[encoded data removed]",
      "text/plain": [
       "<Figure size 432x288 with 1 Axes>"
      ]
     },
     "metadata": {
      "needs_background": "light"
     },
     "output_type": "display_data"
    }
   ],
   "source": [
    "price_vs_appraised_df.hist(column='hcad total mkt value', bins=custom_bins)\n",
    "plt.xlabel('Apprased tax value Mil $')\n",
    "plt.ylabel(\"Number Of Properties\");\n",
    "plt.savefig('histogram_hcad.png', dpi=300)"
   ]
  },
  {
   "cell_type": "code",
   "execution_count": 7,
   "id": "70b35b98",
   "metadata": {},
   "outputs": [
    {
     "data": {
      "image/png": "[encoded data removed]",
      "text/plain": [
       "<Figure size 432x288 with 1 Axes>"
      ]
     },
     "metadata": {
      "needs_background": "light"
     },
     "output_type": "display_data"
    }
   ],
   "source": [
    "\n",
    "# conclusion - \n",
    "plt.hist([price_vs_appraised_df['hcad total mkt value'], price_vs_appraised_df['har price']], custom_bins, label=['hcad total mkt value', 'har price'])\n",
    "plt.legend(loc='upper right')\n",
    "plt.xlabel('Value Mil $')\n",
    "plt.ylabel(\"Number Of Properties\");\n",
    "plt.savefig('histogram_all_Harris_county.png', dpi=300)\n",
    "plt.show()"
   ]
  },
  {
   "cell_type": "code",
   "execution_count": 11,
   "id": "db0463b6",
   "metadata": {},
   "outputs": [],
   "source": [
    "#Extract properties from zip code 77026 \n",
    "price_vs_appraised_77026_df = pd.read_sql('''\n",
    "select ha.mls,ha.address,ha.zipcode,\n",
    "ha.price as \"har price\", r.tot_appr_val as \"hcad appraised value\",\n",
    "r.tot_mkt_val as \"hcad total mkt value\"\n",
    "from har_address ha, real_acct r\n",
    "where ha.zipcode = r.site_addr_3\n",
    "and upper(ha.streetname) = upper(r.str)\n",
    "and ha.addressnumber = r.str_num\n",
    "and r.str_unit=ha.occupancyidentifier\n",
    "and r.str_num!='0'\n",
    "and r.tot_appr_val!=0\n",
    "and ha.zipcode='77026';\n",
    "''',engine)"
   ]
  },
  {
   "cell_type": "code",
   "execution_count": 12,
   "id": "bbf5ce7f",
   "metadata": {},
   "outputs": [
    {
     "data": {
      "text/html": [
       "<div>\n",
       "<style scoped>\n",
       "    .dataframe tbody tr th:only-of-type {\n",
       "        vertical-align: middle;\n",
       "    }\n",
       "\n",
       "    .dataframe tbody tr th {\n",
       "        vertical-align: top;\n",
       "    }\n",
       "\n",
       "    .dataframe thead th {\n",
       "        text-align: right;\n",
       "    }\n",
       "</style>\n",
       "<table border=\"1\" class=\"dataframe\">\n",
       "  <thead>\n",
       "    <tr style=\"text-align: right;\">\n",
       "      <th></th>\n",
       "      <th>mls</th>\n",
       "      <th>address</th>\n",
       "      <th>zipcode</th>\n",
       "      <th>har price</th>\n",
       "      <th>hcad appraised value</th>\n",
       "      <th>hcad total mkt value</th>\n",
       "    </tr>\n",
       "  </thead>\n",
       "  <tbody>\n",
       "    <tr>\n",
       "      <th>0</th>\n",
       "      <td>63843966</td>\n",
       "      <td>1915 Elysian Street, Houston, TX 77026</td>\n",
       "      <td>77026</td>\n",
       "      <td>189500.0</td>\n",
       "      <td>129360.0</td>\n",
       "      <td>129360.0</td>\n",
       "    </tr>\n",
       "    <tr>\n",
       "      <th>1</th>\n",
       "      <td>98862739</td>\n",
       "      <td>1922 Hardy Street, Houston, TX 77026</td>\n",
       "      <td>77026</td>\n",
       "      <td>199900.0</td>\n",
       "      <td>193447.0</td>\n",
       "      <td>193447.0</td>\n",
       "    </tr>\n",
       "  </tbody>\n",
       "</table>\n",
       "</div>"
      ],
      "text/plain": [
       "        mls                                 address zipcode  har price  \\\n",
       "0  63843966  1915 Elysian Street, Houston, TX 77026   77026   189500.0   \n",
       "1  98862739    1922 Hardy Street, Houston, TX 77026   77026   199900.0   \n",
       "\n",
       "   hcad appraised value  hcad total mkt value  \n",
       "0              129360.0              129360.0  \n",
       "1              193447.0              193447.0  "
      ]
     },
     "execution_count": 12,
     "metadata": {},
     "output_type": "execute_result"
    }
   ],
   "source": [
    "price_vs_appraised_77026_df.head(2)"
   ]
  },
  {
   "cell_type": "code",
   "execution_count": 13,
   "id": "c4b12fc3",
   "metadata": {},
   "outputs": [
    {
     "data": {
      "image/png": "[encoded data removed]",
      "text/plain": [
       "<Figure size 432x288 with 1 Axes>"
      ]
     },
     "metadata": {
      "needs_background": "light"
     },
     "output_type": "display_data"
    }
   ],
   "source": [
    "#plot for less affluent zip code 77026\n",
    "plt.hist([price_vs_appraised_77026_df['hcad total mkt value'], price_vs_appraised_77026_df['har price']], custom_bins, label=['hcad total mkt value', 'har price'])\n",
    "plt.legend(loc='upper right')\n",
    "plt.xlabel('Value Mil $')\n",
    "plt.ylabel(\"Number Of Properties\");\n",
    "plt.savefig('histogram_77026.png', dpi=300)\n",
    "plt.show()"
   ]
  },
  {
   "cell_type": "code",
   "execution_count": 14,
   "id": "62368b07",
   "metadata": {},
   "outputs": [],
   "source": [
    "#Extract properties from zip code 77005 \n",
    "price_vs_appraised_77005_df = pd.read_sql('''\n",
    "select ha.mls,ha.address,ha.zipcode,\n",
    "ha.price as \"har price\", r.tot_appr_val as \"hcad appraised value\",\n",
    "r.tot_mkt_val as \"hcad total mkt value\"\n",
    "from har_address ha, real_acct r\n",
    "where ha.zipcode = r.site_addr_3\n",
    "and upper(ha.streetname) = upper(r.str)\n",
    "and ha.addressnumber = r.str_num\n",
    "and r.str_unit=ha.occupancyidentifier\n",
    "and r.str_num!='0'\n",
    "and r.tot_appr_val!=0\n",
    "and ha.zipcode='77005';\n",
    "''',engine)"
   ]
  },
  {
   "cell_type": "code",
   "execution_count": 19,
   "id": "6bdcb54d",
   "metadata": {},
   "outputs": [
    {
     "data": {
      "text/plain": [
       "count    1.750000e+02\n",
       "mean     1.145933e+06\n",
       "std      7.377295e+05\n",
       "min      1.680000e+04\n",
       "25%      6.346335e+05\n",
       "50%      9.835000e+05\n",
       "75%      1.520852e+06\n",
       "max      5.000000e+06\n",
       "Name: hcad total mkt value, dtype: float64"
      ]
     },
     "execution_count": 19,
     "metadata": {},
     "output_type": "execute_result"
    }
   ],
   "source": [
    "price_vs_appraised_77005_df['hcad total mkt value'].describe()"
   ]
  },
  {
   "cell_type": "code",
   "execution_count": 21,
   "id": "be569aef",
   "metadata": {},
   "outputs": [
    {
     "data": {
      "text/plain": [
       "count    1.750000e+02\n",
       "mean     1.512427e+06\n",
       "std      1.229015e+06\n",
       "min      2.025000e+05\n",
       "25%      7.499990e+05\n",
       "50%      1.299000e+06\n",
       "75%      1.899000e+06\n",
       "max      1.250000e+07\n",
       "Name: har price, dtype: float64"
      ]
     },
     "execution_count": 21,
     "metadata": {},
     "output_type": "execute_result"
    }
   ],
   "source": [
    "price_vs_appraised_77005_df['har price'].describe()"
   ]
  },
  {
   "cell_type": "code",
   "execution_count": 20,
   "id": "48ba431a",
   "metadata": {},
   "outputs": [
    {
     "data": {
      "text/plain": [
       "count       170.000000\n",
       "mean      84949.376471\n",
       "std       89623.198010\n",
       "min       14276.000000\n",
       "25%       26911.250000\n",
       "50%       54210.000000\n",
       "75%      111612.000000\n",
       "max      678207.000000\n",
       "Name: hcad total mkt value, dtype: float64"
      ]
     },
     "execution_count": 20,
     "metadata": {},
     "output_type": "execute_result"
    }
   ],
   "source": [
    "price_vs_appraised_77026_df['hcad total mkt value'].describe()"
   ]
  },
  {
   "cell_type": "code",
   "execution_count": 22,
   "id": "044f84eb",
   "metadata": {},
   "outputs": [
    {
     "data": {
      "text/plain": [
       "count    1.700000e+02\n",
       "mean     2.612514e+05\n",
       "std      4.227649e+05\n",
       "min      3.500000e+04\n",
       "25%      9.612500e+04\n",
       "50%      1.599500e+05\n",
       "75%      2.596500e+05\n",
       "max      4.700000e+06\n",
       "Name: har price, dtype: float64"
      ]
     },
     "execution_count": 22,
     "metadata": {},
     "output_type": "execute_result"
    }
   ],
   "source": [
    "price_vs_appraised_77026_df['har price'].describe()"
   ]
  },
  {
   "cell_type": "code",
   "execution_count": 15,
   "id": "2e109cf0",
   "metadata": {},
   "outputs": [
    {
     "data": {
      "image/png": "[encoded data removed]",
      "text/plain": [
       "<Figure size 432x288 with 1 Axes>"
      ]
     },
     "metadata": {
      "needs_background": "light"
     },
     "output_type": "display_data"
    }
   ],
   "source": [
    "#Plot for rich zip code 77005\n",
    "plt.hist([price_vs_appraised_77005_df['hcad total mkt value'], price_vs_appraised_77005_df['har price']], custom_bins, label=['hcad total mkt value', 'har price'])\n",
    "plt.legend(loc='upper right')\n",
    "plt.xlabel('Value Mil $')\n",
    "plt.ylabel(\"Number Of Properties\");\n",
    "plt.savefig('histogram_77005.png', dpi=300)\n",
    "plt.show()"
   ]
  },
  {
   "cell_type": "code",
   "execution_count": 17,
   "id": "83f5559c",
   "metadata": {},
   "outputs": [
    {
     "data": {
      "text/plain": [
       "<Figure size 432x432 with 0 Axes>"
      ]
     },
     "metadata": {},
     "output_type": "display_data"
    },
    {
     "data": {
      "image/png": "[encoded data removed]",
      "text/plain": [
       "<Figure size 432x288 with 1 Axes>"
      ]
     },
     "metadata": {
      "needs_background": "light"
     },
     "output_type": "display_data"
    }
   ],
   "source": [
    "\n",
    "plt.figure(figsize = (6,6))\n",
    "ax=price_vs_appraised_df.plot.scatter(x='hcad total mkt value',\n",
    "                      y='har price',\n",
    "                      c='DarkBlue')\n",
    "ax.set_aspect(1)\n",
    "plt.xlabel('hcad total mkt value')\n",
    "plt.ylabel(\"har price\");\n",
    "plt.xlim(0,2000000)\n",
    "plt.ylim(0,2000000)\n",
    "plt.savefig('xplot_har_vs_hcad.png', dpi=300)\n",
    "plt.show()"
   ]
  },
  {
   "cell_type": "code",
   "execution_count": null,
   "id": "8cc037fd",
   "metadata": {},
   "outputs": [],
   "source": []
  }
 ],
 "metadata": {
  "kernelspec": {
   "display_name": "Python 3",
   "language": "python",
   "name": "python3"
  },
  "language_info": {
   "codemirror_mode": {
    "name": "ipython",
    "version": 3
   },
   "file_extension": ".py",
   "mimetype": "text/x-python",
   "name": "python",
   "nbconvert_exporter": "python",
   "pygments_lexer": "ipython3",
   "version": "3.8.8"
  }
 },
 "nbformat": 4,
 "nbformat_minor": 5
}
